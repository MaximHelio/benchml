{
 "cells": [
  {
   "cell_type": "code",
   "execution_count": null,
   "id": "d4af7304",
   "metadata": {},
   "outputs": [],
   "source": [
    "%load_ext autoreload \n",
    "%autoreload 2\n",
    "import benchml as bml\n",
    "import numpy as np\n",
    "log = bml.log"
   ]
  },
  {
   "cell_type": "markdown",
   "id": "8cd99d63",
   "metadata": {},
   "source": [
    "## Defining new models"
   ]
  },
  {
   "cell_type": "code",
   "execution_count": null,
   "id": "1e88e30b",
   "metadata": {},
   "outputs": [],
   "source": [
    "def build_linear():\n",
    "    return bml.pipeline.Module(\n",
    "        tag=\"Linear\",\n",
    "        transforms=[\n",
    "            bml.transforms.ExttInput(),\n",
    "            bml.transforms.CleanMatrix(\n",
    "                inputs={\n",
    "                    \"X\":\"ExttInput.X\"\n",
    "                }),\n",
    "            bml.transforms.LinearRegression(\n",
    "                inputs={\n",
    "                    \"X\": \"CleanMatrix.X\",\n",
    "                    \"y\": \"ExttInput.Y\"\n",
    "                })\n",
    "        ],\n",
    "        outputs={\"y\":\"LinearRegression.y\"})\n",
    "\n",
    "def build_ridge():\n",
    "    return bml.pipeline.Module(\n",
    "        tag=\"Ridge\",\n",
    "        transforms=[\n",
    "            bml.transforms.ExttInput(),\n",
    "            bml.transforms.CleanMatrix(\n",
    "                inputs={\n",
    "                    \"X\":\"ExttInput.X\"\n",
    "                }),\n",
    "            bml.transforms.Ridge(\n",
    "                inputs={\n",
    "                    \"X\": \"CleanMatrix.X\",\n",
    "                    \"y\": \"ExttInput.Y\"\n",
    "                })\n",
    "        ],\n",
    "        hyper=bml.transforms.BayesianHyper(\n",
    "            bml.transforms.Hyper({\"Ridge.alpha\": np.linspace(-7,7,15)}),\n",
    "            convert={\"Ridge.alpha\": (lambda p: 10**p)}\n",
    "        ),\n",
    "        outputs={\"y\":\"Ridge.y\"})\n",
    "\n",
    "def build_mp():\n",
    "    return bml.pipeline.Module(\n",
    "        tag=\"MarchenkoLinear\",\n",
    "        transforms=[\n",
    "            bml.transforms.ExttInput(),\n",
    "            bml.transforms.CleanMatrix(\n",
    "                args={\n",
    "                    \"axis\": 0, \n",
    "                    \"std_threshold\": 1e-10\n",
    "                },\n",
    "                inputs={\n",
    "                    \"X\":\"ExttInput.X\"\n",
    "                }),\n",
    "            bml.transforms.MarchenkoPasturFilter(\n",
    "                args={\n",
    "                     \"monomials\": [1,2]\n",
    "                },\n",
    "                inputs={\n",
    "                    \"X\":\"CleanMatrix.X\"\n",
    "                }),\n",
    "            bml.transforms.LinearRegression(\n",
    "                inputs={\n",
    "                    \"X\": \"MarchenkoPasturFilter.X\",\n",
    "                    \"y\": \"ExttInput.Y\"\n",
    "                })\n",
    "        ],\n",
    "        hyper=bml.transforms.GridHyper(\n",
    "            bml.transforms.Hyper({\"CleanMatrix.std_threshold\": [1e-10, 0.5]}),\n",
    "            bml.transforms.Hyper({\"MarchenkoPasturFilter.monomials\": [ [1], [2], [1,2] ]})\n",
    "        ),\n",
    "        outputs={\"y\":\"LinearRegression.y\"})\n",
    "\n",
    "def build_rf():\n",
    "    return bml.pipeline.Module(\n",
    "        tag=\"RandomForest\",\n",
    "        transforms=[\n",
    "            bml.transforms.ExttInput(),\n",
    "            bml.transforms.RandomForestRegressor(\n",
    "                tag=\"predictor\",\n",
    "                args={\n",
    "                    \"n_estimators\": 10\n",
    "                },\n",
    "                inputs={\"X\": \"ExttInput.X\", \"y\": \"ExttInput.Y\"}),\n",
    "        ],\n",
    "        hyper=bml.transforms.GridHyper(\n",
    "            bml.transforms.Hyper({\"predictor.max_depth\": [2,4,8]})\n",
    "        ),\n",
    "        broadcast={},\n",
    "        outputs={\"y\": \"predictor.y\"})\n",
    "\n",
    "def build_models():\n",
    "    return [\n",
    "        build_linear(),\n",
    "        build_ridge(),\n",
    "        build_rf(),\n",
    "        build_mp()\n",
    "    ]\n"
   ]
  },
  {
   "cell_type": "markdown",
   "id": "06b6c1d9",
   "metadata": {},
   "source": [
    "## Listing transforms and models"
   ]
  },
  {
   "cell_type": "code",
   "execution_count": null,
   "id": "ee5a93a4",
   "metadata": {},
   "outputs": [],
   "source": [
    "trafos = list(bml.transforms.get_all())\n",
    "_ = [ print(\"%2d\" % idx, t.__name__) for idx, t in enumerate(trafos) ]"
   ]
  },
  {
   "cell_type": "code",
   "execution_count": null,
   "id": "f91e3a9f",
   "metadata": {},
   "outputs": [],
   "source": [
    "bml.models.list_all()"
   ]
  },
  {
   "cell_type": "code",
   "execution_count": null,
   "id": "636cd5f7",
   "metadata": {},
   "outputs": [],
   "source": [
    "model = bml.models.get(\"logd_delta_hybrid_gylm_krr\").pop()\n",
    "model.showHelpMessage()"
   ]
  },
  {
   "cell_type": "markdown",
   "id": "6e92adcc",
   "metadata": {},
   "source": [
    "## Inspecting a model"
   ]
  },
  {
   "cell_type": "code",
   "execution_count": null,
   "id": "db1837b2",
   "metadata": {},
   "outputs": [],
   "source": [
    "model = build_mp()\n",
    "print(model)"
   ]
  },
  {
   "cell_type": "code",
   "execution_count": null,
   "id": "2eb0cb7b",
   "metadata": {},
   "outputs": [],
   "source": [
    "args = model.compileArgs()\n",
    "print(\"Args =\")\n",
    "_ = [ print(\"  %-40s = %-10s\" % (k,v)) for k, v in args.items() ]"
   ]
  },
  {
   "cell_type": "code",
   "execution_count": null,
   "id": "d9872f23",
   "metadata": {},
   "outputs": [],
   "source": [
    "model.showHelpMessage()"
   ]
  },
  {
   "cell_type": "markdown",
   "id": "64fe8a52",
   "metadata": {},
   "source": [
    "## Fitting a model"
   ]
  },
  {
   "cell_type": "code",
   "execution_count": null,
   "id": "ff7f8a8c",
   "metadata": {},
   "outputs": [],
   "source": [
    "def fit_evaluate_model(\n",
    "        model, \n",
    "        dataset, \n",
    "        metrics=[\"mae\", \"r2\", \"rhop\"],\n",
    "        split=dict(method=\"random\", n_splits=10, train_fraction=0.9)):\n",
    "    accu = bml.Accumulator(metrics=metrics)\n",
    "    with bml.stream(model, dataset) as stream:\n",
    "        for idx, (train, test) in enumerate(stream.split(**split)):\n",
    "            model.fit(train)\n",
    "            output_train = model.map(train)\n",
    "            output_test = model.map(test)\n",
    "            accu.append(\"train\", output_train[\"y\"], train[\"ExttInput.Y\"])\n",
    "            accu.append(\"test\", output_test[\"y\"], test[\"ExttInput.Y\"])\n",
    "        print(\"Accumulated metrics:\")\n",
    "        res = accu.evaluateAll(log=bml.log, bootstrap=0)\n",
    "    return model, res"
   ]
  },
  {
   "cell_type": "code",
   "execution_count": null,
   "id": "253dcdb8",
   "metadata": {},
   "outputs": [],
   "source": [
    "dataset = bml.load_dataset(\"ising.extt\")\n",
    "print(dataset)\n",
    "model = build_mp()\n",
    "model, res = fit_evaluate_model(model, dataset)\n",
    "print(model)"
   ]
  },
  {
   "cell_type": "code",
   "execution_count": null,
   "id": "7012ec44",
   "metadata": {},
   "outputs": [],
   "source": [
    "bml.splits.synchronize(0)\n",
    "models = build_models()\n",
    "timer = bml.utils.StagedTimer()\n",
    "for m in models:\n",
    "    print(\"Evaluate model '%s'\" % m.tag)\n",
    "    with timer.time(m.tag):\n",
    "        model, res = fit_evaluate_model(m, dataset)\n",
    "print(\"Wall times:\")\n",
    "timer.report(log)"
   ]
  },
  {
   "cell_type": "markdown",
   "id": "385d75b8",
   "metadata": {},
   "source": [
    "## Hyperfitting and benchmarking"
   ]
  },
  {
   "cell_type": "code",
   "execution_count": null,
   "id": "cc7ee0fe",
   "metadata": {},
   "outputs": [],
   "source": [
    "def hyperfit_evaluate_model(\n",
    "        model, \n",
    "        dataset, \n",
    "        accu,\n",
    "        split=dict(method=\"random\", n_splits=1, train_fraction=0.9),\n",
    "        hypersplit=dict(method=\"random\", n_splits=10, train_fraction=0.8)):\n",
    "    with bml.stream(model, dataset) as stream:\n",
    "        for idx, (train, test) in enumerate(stream.split(**split)):\n",
    "            if model.hyper is not None:\n",
    "                model.hyperfit(\n",
    "                    stream=train,\n",
    "                    split_args=hypersplit,\n",
    "                    accu_args=dict(metric=accu.metrics[0]),\n",
    "                    target=\"y\",\n",
    "                    target_ref=\"ExttInput.Y\",\n",
    "                    log=log)\n",
    "            else:\n",
    "                model.fit(stream=train)\n",
    "            output_train = model.map(train)\n",
    "            output_test = model.map(test)\n",
    "            accu.append(\"%s_train\" % model.tag, output_train[\"y\"], train[\"ExttInput.Y\"])\n",
    "            accu.append(\"%s_test\" % model.tag, output_test[\"y\"], test[\"ExttInput.Y\"])\n",
    "    return res"
   ]
  },
  {
   "cell_type": "code",
   "execution_count": null,
   "id": "a2bb8f57",
   "metadata": {},
   "outputs": [],
   "source": [
    "models = build_models()\n",
    "accu = bml.Accumulator(metrics=[\"r2\", \"r2\", \"rhop\"])\n",
    "timer = bml.utils.StagedTimer()\n",
    "for m in models:\n",
    "    print(\"Evaluate model '%s'\" % m.tag)\n",
    "    with timer.time(m.tag):\n",
    "        res = hyperfit_evaluate_model(m, dataset, accu)\n",
    "print(\"Accumulated metrics:\")\n",
    "res = accu.evaluateAll(log=bml.log, bootstrap=0)"
   ]
  },
  {
   "cell_type": "code",
   "execution_count": null,
   "id": "ad7cb2de",
   "metadata": {},
   "outputs": [],
   "source": [
    "timer.report(log)"
   ]
  },
  {
   "cell_type": "code",
   "execution_count": null,
   "id": "8954bbbc",
   "metadata": {},
   "outputs": [],
   "source": [
    "%matplotlib inline\n",
    "import matplotlib.pyplot as plot\n",
    "plot.style.use('seaborn-white')\n",
    "fig, ax = plot.subplots(1, 4, sharex='col', sharey='row', figsize=(16,4))\n",
    "for midx, m in enumerate(models):\n",
    "    yp, yt = accu[\"%s_test\" % m.tag]\n",
    "    yp_train, yt_train = accu[\"%s_train\" % m.tag]\n",
    "    ax[midx].scatter(yp, yt, c='#0066ff')\n",
    "    ax[midx].scatter(yp_train, yt_train, s=1.0, c='#333333')\n",
    "    ax[midx].set_title(m.tag)"
   ]
  },
  {
   "cell_type": "markdown",
   "id": "7ba2732b",
   "metadata": {},
   "source": [
    "## Train and deploy"
   ]
  },
  {
   "cell_type": "code",
   "execution_count": null,
   "id": "50e35b48",
   "metadata": {},
   "outputs": [],
   "source": [
    "model = build_mp()\n",
    "with bml.stream(model, dataset) as stream:\n",
    "    if model.hyper is not None:\n",
    "        model.hyperfit(\n",
    "            stream=stream,\n",
    "            split_args=dict(method=\"kfold\", k=10),\n",
    "            accu_args=dict(metric=\"r2\"),\n",
    "            target=\"y\",\n",
    "            target_ref=\"ExttInput.Y\",\n",
    "            log=log)\n",
    "    else:\n",
    "        model.fit(stream)\n",
    "bml.save(\"model.arch\", model)"
   ]
  },
  {
   "cell_type": "code",
   "execution_count": null,
   "id": "79462940",
   "metadata": {},
   "outputs": [],
   "source": [
    "model = bml.load(\"model.arch\")\n",
    "model.showHelpMessage()\n",
    "with bml.stream(model, dataset) as stream:\n",
    "    output = model.map(stream)\n",
    "print(output)"
   ]
  }
 ],
 "metadata": {
  "kernelspec": {
   "display_name": "Python 3",
   "language": "python",
   "name": "python3"
  },
  "language_info": {
   "codemirror_mode": {
    "name": "ipython",
    "version": 3
   },
   "file_extension": ".py",
   "mimetype": "text/x-python",
   "name": "python",
   "nbconvert_exporter": "python",
   "pygments_lexer": "ipython3",
   "version": "3.7.10"
  }
 },
 "nbformat": 4,
 "nbformat_minor": 5
}
